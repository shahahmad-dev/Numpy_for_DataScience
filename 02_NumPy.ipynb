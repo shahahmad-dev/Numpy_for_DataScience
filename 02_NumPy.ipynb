{
 "cells": [
  {
   "cell_type": "markdown",
   "id": "e32c06fe",
   "metadata": {},
   "source": [
    "# **NumPy (Part 2)**"
   ]
  },
  {
   "cell_type": "code",
   "execution_count": 2,
   "id": "7eb335f3",
   "metadata": {},
   "outputs": [],
   "source": [
    "import numpy as np"
   ]
  },
  {
   "cell_type": "code",
   "execution_count": 3,
   "id": "1c89e1d5",
   "metadata": {},
   "outputs": [
    {
     "name": "stdout",
     "output_type": "stream",
     "text": [
      "[0. 0.]\n"
     ]
    }
   ],
   "source": [
    "# Empty array\n",
    "empty = np.empty((3,2))\n",
    "empty\n",
    "print(empty[2])"
   ]
  },
  {
   "cell_type": "markdown",
   "id": "6fafceef",
   "metadata": {},
   "source": []
  },
  {
   "cell_type": "code",
   "execution_count": 4,
   "id": "0151b63e",
   "metadata": {},
   "outputs": [
    {
     "name": "stdout",
     "output_type": "stream",
     "text": [
      "[ 2  4  6  8 10 12 14 16 18 20]\n"
     ]
    }
   ],
   "source": [
    "# array of even number using arange function starting to 2 and ending on 20 step is 2\n",
    "even = np.arange(2, 21, 2)\n",
    "print(even)"
   ]
  },
  {
   "cell_type": "code",
   "execution_count": 5,
   "id": "a1f830f4",
   "metadata": {},
   "outputs": [
    {
     "name": "stdout",
     "output_type": "stream",
     "text": [
      "[ 1  3  5  7  9 11 13 15 17 19 21]\n"
     ]
    }
   ],
   "source": [
    "# array of add number using arange function starting to 1 and ending on 22 step is 2\n",
    "odd = np.arange(1,23, 2)\n",
    "print(odd)"
   ]
  },
  {
   "cell_type": "code",
   "execution_count": 6,
   "id": "358fbd50",
   "metadata": {},
   "outputs": [
    {
     "data": {
      "text/plain": [
       "array([ 1.,  2.,  3.,  4.,  5.,  6.,  7.,  8.,  9., 10.])"
      ]
     },
     "execution_count": 6,
     "metadata": {},
     "output_type": "execute_result"
    }
   ],
   "source": [
    "# starting point and ending point and num=10 how to many number do you want\n",
    "lin = np.linspace(1, 10, num=10) \n",
    "lin"
   ]
  },
  {
   "cell_type": "code",
   "execution_count": 7,
   "id": "4b3c827d",
   "metadata": {},
   "outputs": [
    {
     "name": "stdout",
     "output_type": "stream",
     "text": [
      "[1. 2. 3. 4. 5. 6. 7. 8. 9.]\n"
     ]
    },
    {
     "data": {
      "text/plain": [
       "dtype('float64')"
      ]
     },
     "execution_count": 7,
     "metadata": {},
     "output_type": "execute_result"
    }
   ],
   "source": [
    "# how to give dtype to array\n",
    "a = np.arange(1,10, 1, dtype=np.float64)\n",
    "print(a)\n",
    "a.dtype"
   ]
  },
  {
   "cell_type": "code",
   "execution_count": 8,
   "id": "5b219136",
   "metadata": {},
   "outputs": [
    {
     "name": "stdout",
     "output_type": "stream",
     "text": [
      "[  0   1   2   3   4   4   5   6   7   7   9  53  64 223 997]\n"
     ]
    }
   ],
   "source": [
    "# how to sort array \n",
    "arr = np.array([1,4,6,9,4,2,7,0,7,5,997,3,223,53,64])\n",
    "arr = np.sort(arr)\n",
    "print(arr)"
   ]
  },
  {
   "cell_type": "code",
   "execution_count": 9,
   "id": "b2895e5d",
   "metadata": {},
   "outputs": [
    {
     "name": "stdout",
     "output_type": "stream",
     "text": [
      "[ 1  2  3  4  5  6  7  8  9 10]\n"
     ]
    }
   ],
   "source": [
    "# concatenate array\n",
    "a = np.array([1,2,3,4,5])\n",
    "b = np.array([6,7,8,9,10])\n",
    "\n",
    "c = np.concatenate((a,b), axis=0)\n",
    "print(c)"
   ]
  },
  {
   "cell_type": "code",
   "execution_count": 10,
   "id": "e03f2559",
   "metadata": {},
   "outputs": [
    {
     "data": {
      "text/plain": [
       "array([[ 1,  2,  3,  4],\n",
       "       [ 5,  6,  7,  8],\n",
       "       [ 9, 10, 11, 12]])"
      ]
     },
     "execution_count": 10,
     "metadata": {},
     "output_type": "execute_result"
    }
   ],
   "source": [
    "# create 3D array\n",
    "array = np.array([[[1,2,3],\n",
    "                   [4,5,6]],\n",
    "                  [[7,8,9],\n",
    "                   [10,11,12]]])\n",
    "array.shape\n",
    "array.ndim\n",
    "array.reshape(3, 4)\n"
   ]
  },
  {
   "cell_type": "code",
   "execution_count": 11,
   "id": "a2c259e3",
   "metadata": {},
   "outputs": [
    {
     "name": "stdout",
     "output_type": "stream",
     "text": [
      "(5,)\n",
      "(1, 5)\n"
     ]
    }
   ],
   "source": [
    "# convert 1D into 2D array\n",
    "a = np.array([1,2,3,4,5])\n",
    "print(a.shape)\n",
    "a2 = a[np.newaxis, : ]\n",
    "print(a2.shape)"
   ]
  },
  {
   "cell_type": "markdown",
   "id": "9adacb1d",
   "metadata": {},
   "source": [
    "# **Indexing and Slicing**"
   ]
  },
  {
   "cell_type": "code",
   "execution_count": 12,
   "id": "bc0c432d",
   "metadata": {},
   "outputs": [
    {
     "data": {
      "text/plain": [
       "array([2, 3, 4])"
      ]
     },
     "execution_count": 12,
     "metadata": {},
     "output_type": "execute_result"
    }
   ],
   "source": [
    "array = np.array([1,2,3,4,5,6,7,8,9])\n",
    "array[0:8]\n",
    "array[3:6]\n",
    "array[1:4]"
   ]
  },
  {
   "cell_type": "code",
   "execution_count": 13,
   "id": "ca4f18d5",
   "metadata": {},
   "outputs": [
    {
     "data": {
      "text/plain": [
       "array([[ 1,  2,  3],\n",
       "       [ 4,  5,  6],\n",
       "       [ 7,  8,  9],\n",
       "       [10, 11, 12]])"
      ]
     },
     "execution_count": 13,
     "metadata": {},
     "output_type": "execute_result"
    }
   ],
   "source": [
    "# Create a 3D array\n",
    "array = np.array([[[1,2,3],\n",
    "                   [4,5,6]],\n",
    "                   \n",
    "                  [[7,8,9],\n",
    "                   [10,11,12]]])\n",
    "array.shape\n",
    "array.ndim\n",
    "array.reshape(4, 3)\n"
   ]
  },
  {
   "cell_type": "code",
   "execution_count": 14,
   "id": "4454ecb6",
   "metadata": {},
   "outputs": [
    {
     "name": "stdout",
     "output_type": "stream",
     "text": [
      "[4 5 6]\n"
     ]
    }
   ],
   "source": [
    "print(array[0,1, :])"
   ]
  },
  {
   "cell_type": "code",
   "execution_count": 15,
   "id": "a915b16f",
   "metadata": {},
   "outputs": [
    {
     "name": "stdout",
     "output_type": "stream",
     "text": [
      "[7 8 9]\n"
     ]
    }
   ],
   "source": [
    "print(array[1,0, :])"
   ]
  },
  {
   "cell_type": "code",
   "execution_count": 16,
   "id": "267021c3",
   "metadata": {},
   "outputs": [
    {
     "data": {
      "text/plain": [
       "array([1, 2])"
      ]
     },
     "execution_count": 16,
     "metadata": {},
     "output_type": "execute_result"
    }
   ],
   "source": [
    "array[array < 3]"
   ]
  },
  {
   "cell_type": "markdown",
   "id": "d5e25285",
   "metadata": {},
   "source": [
    "# Making an array from another array\n"
   ]
  },
  {
   "cell_type": "code",
   "execution_count": 17,
   "id": "85f233bb",
   "metadata": {},
   "outputs": [
    {
     "data": {
      "text/plain": [
       "array([ 1,  3,  5,  7,  9, 11, 13, 15, 17, 19, 21, 23, 25, 27, 29, 31, 33,\n",
       "       35, 37, 39, 41, 43, 45, 47, 49])"
      ]
     },
     "execution_count": 17,
     "metadata": {},
     "output_type": "execute_result"
    }
   ],
   "source": [
    "array = np.arange(1,50 ,2)\n",
    "array"
   ]
  },
  {
   "cell_type": "code",
   "execution_count": 18,
   "id": "cf0c0dfc",
   "metadata": {},
   "outputs": [
    {
     "data": {
      "text/plain": [
       "array([ 9, 11, 13, 15, 17, 19, 21, 23])"
      ]
     },
     "execution_count": 18,
     "metadata": {},
     "output_type": "execute_result"
    }
   ],
   "source": [
    "New_array = array[4:12]\n",
    "New_array"
   ]
  },
  {
   "cell_type": "code",
   "execution_count": 19,
   "id": "90a4ac68",
   "metadata": {},
   "outputs": [
    {
     "data": {
      "text/plain": [
       "array([ 1,  2,  3,  4,  5,  6,  7,  8,  9, 10])"
      ]
     },
     "execution_count": 19,
     "metadata": {},
     "output_type": "execute_result"
    }
   ],
   "source": [
    "# Hstake\n",
    "a = np.array([1,2,3,4,5])\n",
    "b = np.array([6,7,8,9,10])\n",
    "c = np.hstack((a,b))\n",
    "c"
   ]
  },
  {
   "cell_type": "code",
   "execution_count": 20,
   "id": "c961b167",
   "metadata": {},
   "outputs": [
    {
     "data": {
      "text/plain": [
       "array([[ 1,  2,  3,  4,  5],\n",
       "       [ 6,  7,  8,  9, 10]])"
      ]
     },
     "execution_count": 20,
     "metadata": {},
     "output_type": "execute_result"
    }
   ],
   "source": [
    "#Vstake\n",
    "a = np.array([1,2,3,4,5])\n",
    "b = np.array([6,7,8,9,10])\n",
    "c = np.vstack((a,b))\n",
    "c"
   ]
  },
  {
   "cell_type": "code",
   "execution_count": 22,
   "id": "62500b05",
   "metadata": {},
   "outputs": [
    {
     "data": {
      "text/plain": [
       "array([[1, 2, 3],\n",
       "       [4, 5, 6]])"
      ]
     },
     "execution_count": 22,
     "metadata": {},
     "output_type": "execute_result"
    }
   ],
   "source": [
    "# Create a matrix\n",
    "a = np.array([[1,2,3], [4,5,6]])\n",
    "a"
   ]
  },
  {
   "cell_type": "code",
   "execution_count": 26,
   "id": "2e443e70",
   "metadata": {},
   "outputs": [
    {
     "data": {
      "text/plain": [
       "array([[ 1,  3,  5,  7,  9, 11, 13, 15, 17, 19],\n",
       "       [21, 23, 25, 27, 29, 31, 33, 35, 37, 39],\n",
       "       [41, 43, 45, 47, 49, 51, 53, 55, 57, 59],\n",
       "       [61, 63, 65, 67, 69, 71, 73, 75, 77, 79],\n",
       "       [81, 83, 85, 87, 89, 91, 93, 95, 97, 99]])"
      ]
     },
     "execution_count": 26,
     "metadata": {},
     "output_type": "execute_result"
    }
   ],
   "source": [
    "# Creating big matrix\n",
    "array = np.arange(1,100, 2).reshape(5, 10)\n",
    "array"
   ]
  },
  {
   "cell_type": "code",
   "execution_count": 29,
   "id": "6aab5981",
   "metadata": {},
   "outputs": [
    {
     "data": {
      "text/plain": [
       "array([45])"
      ]
     },
     "execution_count": 29,
     "metadata": {},
     "output_type": "execute_result"
    }
   ],
   "source": [
    "# Slicing a matrix\n",
    "array[2 , 2:3]"
   ]
  },
  {
   "cell_type": "code",
   "execution_count": 30,
   "id": "9cdc7922",
   "metadata": {},
   "outputs": [
    {
     "data": {
      "text/plain": [
       "array([91])"
      ]
     },
     "execution_count": 30,
     "metadata": {},
     "output_type": "execute_result"
    }
   ],
   "source": [
    "# lets access just '91'\n",
    "array[-1, 5:6]"
   ]
  },
  {
   "cell_type": "code",
   "execution_count": 31,
   "id": "b5c5e155",
   "metadata": {},
   "outputs": [
    {
     "data": {
      "text/plain": [
       "np.int64(99)"
      ]
     },
     "execution_count": 31,
     "metadata": {},
     "output_type": "execute_result"
    }
   ],
   "source": [
    "# lets find max value in array\n",
    "array.max()"
   ]
  },
  {
   "cell_type": "code",
   "execution_count": 36,
   "id": "3542d106",
   "metadata": {},
   "outputs": [
    {
     "data": {
      "text/plain": [
       "array([ 1, 21, 41, 61, 81])"
      ]
     },
     "execution_count": 36,
     "metadata": {},
     "output_type": "execute_result"
    }
   ],
   "source": [
    "# lets find min value in array / min in row\n",
    "array.min(axis=1)"
   ]
  },
  {
   "cell_type": "code",
   "execution_count": null,
   "id": "cbc9c46f",
   "metadata": {},
   "outputs": [
    {
     "data": {
      "text/plain": [
       "array([100, 300, 500, 700, 900])"
      ]
     },
     "execution_count": 38,
     "metadata": {},
     "output_type": "execute_result"
    }
   ],
   "source": [
    "# lets check sum of all columns or rows\n",
    "array.sum(axis=1)"
   ]
  },
  {
   "cell_type": "code",
   "execution_count": null,
   "id": "8be713f2",
   "metadata": {},
   "outputs": [],
   "source": []
  }
 ],
 "metadata": {
  "kernelspec": {
   "display_name": "python_eda",
   "language": "python",
   "name": "python3"
  },
  "language_info": {
   "codemirror_mode": {
    "name": "ipython",
    "version": 3
   },
   "file_extension": ".py",
   "mimetype": "text/x-python",
   "name": "python",
   "nbconvert_exporter": "python",
   "pygments_lexer": "ipython3",
   "version": "3.13.5"
  }
 },
 "nbformat": 4,
 "nbformat_minor": 5
}
