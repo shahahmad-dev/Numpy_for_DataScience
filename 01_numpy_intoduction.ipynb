{
 "cells": [
  {
   "cell_type": "markdown",
   "id": "2b19dbb5",
   "metadata": {},
   "source": [
    "# What is numpy array?\n",
    "A numpy array is a powerful n-dimensional array object which is in the form of rows and columns. It is a grid of values, all of the same type, and is indexed by a tuple of non-negative integers. In NumPy, dimensions are called axes. The number of axes is referred to as the rank."
   ]
  },
  {
   "cell_type": "code",
   "execution_count": 55,
   "id": "98c4d9c7",
   "metadata": {},
   "outputs": [],
   "source": [
    "import numpy as np"
   ]
  },
  {
   "cell_type": "markdown",
   "id": "f60f2e77",
   "metadata": {},
   "source": [
    "# 1D array"
   ]
  },
  {
   "cell_type": "code",
   "execution_count": 56,
   "id": "f2647bdd",
   "metadata": {},
   "outputs": [
    {
     "name": "stdout",
     "output_type": "stream",
     "text": [
      "[0 1 2 3 4 5]\n"
     ]
    },
    {
     "data": {
      "text/plain": [
       "(6,)"
      ]
     },
     "execution_count": 56,
     "metadata": {},
     "output_type": "execute_result"
    }
   ],
   "source": [
    "a = np.arange(6)\n",
    "print(a)\n",
    "np.shape(a)"
   ]
  },
  {
   "cell_type": "markdown",
   "id": "e1789834",
   "metadata": {},
   "source": [
    "# 2D array"
   ]
  },
  {
   "cell_type": "code",
   "execution_count": 57,
   "id": "086f3c12",
   "metadata": {},
   "outputs": [
    {
     "name": "stdout",
     "output_type": "stream",
     "text": [
      "[[0 1 2 3 4 5]]\n"
     ]
    },
    {
     "data": {
      "text/plain": [
       "(1, 6)"
      ]
     },
     "execution_count": 57,
     "metadata": {},
     "output_type": "execute_result"
    }
   ],
   "source": [
    "a1 = a[np.newaxis, : ]\n",
    "print(a1)\n",
    "np.shape(a1)"
   ]
  },
  {
   "cell_type": "markdown",
   "id": "b5c2f652",
   "metadata": {},
   "source": [
    "# 3D array"
   ]
  },
  {
   "cell_type": "code",
   "execution_count": 58,
   "id": "c59d359c",
   "metadata": {},
   "outputs": [
    {
     "name": "stdout",
     "output_type": "stream",
     "text": [
      "[[[0 1 2 3 4 5]]]\n"
     ]
    },
    {
     "data": {
      "text/plain": [
       "(1, 1, 6)"
      ]
     },
     "execution_count": 58,
     "metadata": {},
     "output_type": "execute_result"
    }
   ],
   "source": [
    "a2 = a1[np.newaxis, :]\n",
    "print(a2)\n",
    "np.shape(a2)"
   ]
  },
  {
   "cell_type": "markdown",
   "id": "c4c73365",
   "metadata": {},
   "source": [
    "# Creating Nunpy array"
   ]
  },
  {
   "cell_type": "code",
   "execution_count": 59,
   "id": "1c86a383",
   "metadata": {},
   "outputs": [
    {
     "name": "stdout",
     "output_type": "stream",
     "text": [
      "[1 2 3 4 4 5 6 8]\n"
     ]
    }
   ],
   "source": [
    "a = np.array([1,2,3,4,4,5,6,8,])\n",
    "a.shape\n",
    "print(a)"
   ]
  },
  {
   "cell_type": "code",
   "execution_count": 60,
   "id": "a652c6f2",
   "metadata": {},
   "outputs": [
    {
     "name": "stdout",
     "output_type": "stream",
     "text": [
      "[[1 2 3 4 5]\n",
      " [6 7 8 9 0]]\n"
     ]
    }
   ],
   "source": [
    "b = np.array([[1,2,3,4,5], [6,7,8,9,0]])\n",
    "b.shape\n",
    "print(b)"
   ]
  },
  {
   "cell_type": "code",
   "execution_count": 61,
   "id": "c565709f",
   "metadata": {},
   "outputs": [
    {
     "data": {
      "text/plain": [
       "dtype('int64')"
      ]
     },
     "execution_count": 61,
     "metadata": {},
     "output_type": "execute_result"
    }
   ],
   "source": [
    "b.dtype # Data type of array"
   ]
  },
  {
   "cell_type": "code",
   "execution_count": 62,
   "id": "908975bd",
   "metadata": {},
   "outputs": [
    {
     "data": {
      "text/plain": [
       "numpy.ndarray"
      ]
     },
     "execution_count": 62,
     "metadata": {},
     "output_type": "execute_result"
    }
   ],
   "source": [
    "type(b) # type of array"
   ]
  },
  {
   "cell_type": "code",
   "execution_count": 63,
   "id": "a095c377",
   "metadata": {},
   "outputs": [
    {
     "name": "stdout",
     "output_type": "stream",
     "text": [
      "[[0. 0. 0. 0.]\n",
      " [0. 0. 0. 0.]\n",
      " [0. 0. 0. 0.]\n",
      " [0. 0. 0. 0.]]\n"
     ]
    },
    {
     "data": {
      "text/plain": [
       "(4, 4)"
      ]
     },
     "execution_count": 63,
     "metadata": {},
     "output_type": "execute_result"
    }
   ],
   "source": [
    "# initialize array \n",
    "zeros = np.zeros((4,4))\n",
    "print(zeros)\n",
    "zeros.shape"
   ]
  },
  {
   "cell_type": "code",
   "execution_count": 64,
   "id": "55985ec7",
   "metadata": {},
   "outputs": [
    {
     "name": "stdout",
     "output_type": "stream",
     "text": [
      "[[1. 1. 1. 1.]\n",
      " [1. 1. 1. 1.]\n",
      " [1. 1. 1. 1.]\n",
      " [1. 1. 1. 1.]]\n"
     ]
    },
    {
     "data": {
      "text/plain": [
       "(4, 4)"
      ]
     },
     "execution_count": 64,
     "metadata": {},
     "output_type": "execute_result"
    }
   ],
   "source": [
    "once = np.ones((4,4))\n",
    "print(once)\n",
    "once.shape"
   ]
  },
  {
   "cell_type": "code",
   "execution_count": 65,
   "id": "ad7970c3",
   "metadata": {},
   "outputs": [
    {
     "name": "stdout",
     "output_type": "stream",
     "text": [
      "[[7 7 7]\n",
      " [7 7 7]\n",
      " [7 7 7]]\n"
     ]
    },
    {
     "data": {
      "text/plain": [
       "(3, 3)"
      ]
     },
     "execution_count": 65,
     "metadata": {},
     "output_type": "execute_result"
    }
   ],
   "source": [
    "full = np.full((3,3), 7)   \n",
    "print(full)\n",
    "full.shape"
   ]
  },
  {
   "cell_type": "code",
   "execution_count": 66,
   "id": "7a63ea91",
   "metadata": {},
   "outputs": [
    {
     "name": "stdout",
     "output_type": "stream",
     "text": [
      "[[1. 0. 0. 0.]\n",
      " [0. 1. 0. 0.]\n",
      " [0. 0. 1. 0.]]\n"
     ]
    }
   ],
   "source": [
    "identity = np.eye(3,4) # creating an identity matrix\n",
    "identity.shape\n",
    "print(identity)"
   ]
  },
  {
   "cell_type": "markdown",
   "id": "bda48122",
   "metadata": {},
   "source": [
    "# Array attribute"
   ]
  },
  {
   "cell_type": "code",
   "execution_count": 67,
   "id": "53c7ce11",
   "metadata": {},
   "outputs": [
    {
     "data": {
      "text/plain": [
       "(8,)"
      ]
     },
     "execution_count": 67,
     "metadata": {},
     "output_type": "execute_result"
    }
   ],
   "source": [
    "a.shape"
   ]
  },
  {
   "cell_type": "code",
   "execution_count": 68,
   "id": "f49a5486",
   "metadata": {},
   "outputs": [
    {
     "data": {
      "text/plain": [
       "8"
      ]
     },
     "execution_count": 68,
     "metadata": {},
     "output_type": "execute_result"
    }
   ],
   "source": [
    "len(a)"
   ]
  },
  {
   "cell_type": "code",
   "execution_count": 69,
   "id": "9871ca5d",
   "metadata": {},
   "outputs": [
    {
     "data": {
      "text/plain": [
       "1"
      ]
     },
     "execution_count": 69,
     "metadata": {},
     "output_type": "execute_result"
    }
   ],
   "source": [
    "a.ndim # Show diminsion"
   ]
  },
  {
   "cell_type": "code",
   "execution_count": 70,
   "id": "c62d88f9",
   "metadata": {},
   "outputs": [
    {
     "data": {
      "text/plain": [
       "8"
      ]
     },
     "execution_count": 70,
     "metadata": {},
     "output_type": "execute_result"
    }
   ],
   "source": [
    "a.size"
   ]
  },
  {
   "cell_type": "markdown",
   "id": "c852435f",
   "metadata": {},
   "source": [
    "# **Basic operation**"
   ]
  },
  {
   "cell_type": "code",
   "execution_count": null,
   "id": "9a8f182c",
   "metadata": {},
   "outputs": [],
   "source": []
  }
 ],
 "metadata": {
  "kernelspec": {
   "display_name": "python_eda",
   "language": "python",
   "name": "python3"
  },
  "language_info": {
   "codemirror_mode": {
    "name": "ipython",
    "version": 3
   },
   "file_extension": ".py",
   "mimetype": "text/x-python",
   "name": "python",
   "nbconvert_exporter": "python",
   "pygments_lexer": "ipython3",
   "version": "3.13.5"
  }
 },
 "nbformat": 4,
 "nbformat_minor": 5
}
